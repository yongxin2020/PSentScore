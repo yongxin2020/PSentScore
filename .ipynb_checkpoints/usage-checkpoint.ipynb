{
 "cells": [
  {
   "cell_type": "code",
   "execution_count": 1,
   "id": "4570d82d-72d7-4816-b634-653875f74fe4",
   "metadata": {},
   "outputs": [
    {
     "name": "stderr",
     "output_type": "stream",
     "text": [
      "/home/getalp/zhouy/miniconda3/envs/PSentScore/lib/python3.8/site-packages/tqdm/auto.py:21: TqdmWarning: IProgress not found. Please update jupyter and ipywidgets. See https://ipywidgets.readthedocs.io/en/stable/user_install.html\n",
      "  from .autonotebook import tqdm as notebook_tqdm\n"
     ]
    }
   ],
   "source": [
    "from datasets import load_dataset\n",
    "dialogsum = load_dataset(\"knkarthick/dialogsum\")"
   ]
  },
  {
   "cell_type": "code",
   "execution_count": 2,
   "id": "2082b7e4-08cc-4688-8c8f-740752420f69",
   "metadata": {},
   "outputs": [
    {
     "name": "stdout",
     "output_type": "stream",
     "text": [
      "#Person1# takes the seat next to #Person2#. #Person1# compliments on #Person2#'s English. #Person1# tells #Person2# #Person1# lives in Taichung and #Person1# is a history teacher in Dong-Hai university. #Person1# flies back to States once a year to visit #Person1#'s family and #Person1# doesn't feel strange living in Taichung.\n",
      "train_10014\n",
      "---------------------------------------------\n",
      "#Person1#: Excuse me. Is anyone in that seat next to you?\n",
      "#Person2#: No, I don't think so.\n",
      "#Person1#: Do you mind if I put my jacket there?\n",
      "#Person2#: No. It's no problem. Are you American?\n",
      "#Person1#: Yes. And you?\n",
      "#Person2#: No. I'm from Taiwan. Can't you see?\n",
      "#Person1#: Well, there are many Chinese Americans, you know. And your English is very good. You sound like an American.\n",
      "#Person2#: I don't think so. You are flattering me.\n",
      "#Person1#: No, really. I can only hear a little accent.\n",
      "#Person2#: Are you flying home?\n",
      "#Person1#: Well, yes. Actually, I'm going back to visit.\n",
      "#Person2#: You were visiting Taiwan?\n",
      "#Person1#: No, I'm going back to America to visit. I'm from America, but I don't live there now. I live in Taichung.\n",
      "#Person2#: Really! You live in Taiwan!\n",
      "#Person1#: Yes. Why not?\n",
      "#Person2#: May I ask what your job is in Taiwan?\n",
      "#Person1#: Sure. I teach history in a university. Have you heard of Dong-Hai University?\n",
      "#Person2#: Of course. It's a good school. How long have you lived in Taichung?\n",
      "#Person1#: I have lived in Taichung for two years now. So this is the second time I am going back to states. I go back once a year to visit my family.\n",
      "#Person2#: It must be strange for you to live in Taiwan.\n",
      "#Person1#: No, it isn't strange at all. Many people from Taiwan move to America too, you know. Do you think it is strange for them?\n",
      "#Person2#: No. Well, I don't know. But Taiwan is so crowded. Don't you miss life in America?\n"
     ]
    }
   ],
   "source": [
    "text = dialogsum[\"train\"][10014][\"summary\"]\n",
    "print(text)\n",
    "print(dialogsum[\"train\"][10014][\"id\"])\n",
    "\n",
    "print(\"---------------------------------------------\")\n",
    "\n",
    "dialogue = dialogsum[\"train\"][10014][\"dialogue\"]\n",
    "print(dialogue)"
   ]
  },
  {
   "cell_type": "code",
   "execution_count": 3,
   "id": "da4c9b96-abf2-43b6-a126-b0da19e39be9",
   "metadata": {},
   "outputs": [
    {
     "data": {
      "text/plain": [
       "[\"#Person1#: Hi, Mr. Smith. I'm Doctor Hawkins. Why are you here today?\\n#Person2#: I found it would be a good idea to get a check-up.\\n#Person1#: Yes, well, you haven't had one for 5 years. You should have one every year.\\n#Person2#: I know. I figure as long as there is nothing wrong, why go see the doctor?\\n#Person1#: Well, the best way to avoid serious illnesses is to find out about them early. So try to come at least once a year for your own good.\\n#Person2#: Ok.\\n#Person1#: Let me see here. Your eyes and ears look fine. Take a deep breath, please. Do you smoke, Mr. Smith?\\n#Person2#: Yes.\\n#Person1#: Smoking is the leading cause of lung cancer and heart disease, you know. You really should quit.\\n#Person2#: I've tried hundreds of times, but I just can't seem to kick the habit.\\n#Person1#: Well, we have classes and some medications that might help. I'll give you more information before you leave.\\n#Person2#: Ok, thanks doctor.\",\n",
       " \"#Person1#: Hello Mrs. Parker, how have you been?\\n#Person2#: Hello Dr. Peters. Just fine thank you. Ricky and I are here for his vaccines.\\n#Person1#: Very well. Let's see, according to his vaccination record, Ricky has received his Polio, Tetanus and Hepatitis B shots. He is 14 months old, so he is due for Hepatitis A, Chickenpox and Measles shots.\\n#Person2#: What about Rubella and Mumps?\\n#Person1#: Well, I can only give him these for now, and after a couple of weeks I can administer the rest.\\n#Person2#: OK, great. Doctor, I think I also may need a Tetanus booster. Last time I got it was maybe fifteen years ago!\\n#Person1#: We will check our records and I'll have the nurse administer and the booster as well. Now, please hold Ricky's arm tight, this may sting a little.\",\n",
       " \"#Person1#: Excuse me, did you see a set of keys?\\n#Person2#: What kind of keys?\\n#Person1#: Five keys and a small foot ornament.\\n#Person2#: What a shame! I didn't see them.\\n#Person1#: Well, can you help me look for it? That's my first time here.\\n#Person2#: Sure. It's my pleasure. I'd like to help you look for the missing keys.\\n#Person1#: It's very kind of you.\\n#Person2#: It's not a big deal.Hey, I found them.\\n#Person1#: Oh, thank God! I don't know how to thank you, guys.\\n#Person2#: You're welcome.\"]"
      ]
     },
     "execution_count": 3,
     "metadata": {},
     "output_type": "execute_result"
    }
   ],
   "source": [
    "dialogsum[\"train\"][\"dialogue\"][:3]"
   ]
  },
  {
   "cell_type": "code",
   "execution_count": 4,
   "id": "4fde13b8-9e54-467d-98e9-0f76947fb4a3",
   "metadata": {},
   "outputs": [
    {
     "data": {
      "text/plain": [
       "[\"Mr. Smith's getting a check-up, and Doctor Hawkins advises him to have one every year. Hawkins'll give some information about their classes and medications to help Mr. Smith quit smoking.\",\n",
       " 'Mrs Parker takes Ricky for his vaccines. Dr. Peters checks the record and then gives Ricky a vaccine.',\n",
       " \"#Person1#'s looking for a set of keys and asks for #Person2#'s help to find them.\"]"
      ]
     },
     "execution_count": 4,
     "metadata": {},
     "output_type": "execute_result"
    }
   ],
   "source": [
    "dialogsum[\"train\"][\"summary\"][:3]"
   ]
  },
  {
   "cell_type": "code",
   "execution_count": 5,
   "id": "2a77f402-c335-414a-a663-0a6d8fcf9cb7",
   "metadata": {},
   "outputs": [],
   "source": [
    "# choose 3 srcs and 3 tgts for inference\n",
    "srcs = dialogsum[\"train\"][\"dialogue\"][:3]\n",
    "tgts = dialogsum[\"train\"][\"summary\"][:3]"
   ]
  },
  {
   "cell_type": "code",
   "execution_count": null,
   "id": "99746471-fc96-4482-bdd1-fe55a0a18877",
   "metadata": {},
   "outputs": [],
   "source": []
  },
  {
   "cell_type": "code",
   "execution_count": 6,
   "id": "ddf5c7c4-fda9-4085-9593-370953446b32",
   "metadata": {},
   "outputs": [],
   "source": [
    "from psent_score import PSentScorer"
   ]
  },
  {
   "cell_type": "code",
   "execution_count": 38,
   "id": "de52dc32-bb2b-4c58-931e-3ece098a2be2",
   "metadata": {},
   "outputs": [
    {
     "name": "stderr",
     "output_type": "stream",
     "text": [
      "404 Client Error: Not Found for url: https://huggingface.co//data/yongxin/DiaSumDA/token_classification/ACIInew/bert_ds_sst3/bert_ds_sst3_5e-5_3_12345//resolve/main/config.json\n"
     ]
    },
    {
     "ename": "OSError",
     "evalue": "Can't load config for '/data/yongxin/DiaSumDA/token_classification/ACIInew/bert_ds_sst3/bert_ds_sst3_5e-5_3_12345/'. Make sure that:\n\n- '/data/yongxin/DiaSumDA/token_classification/ACIInew/bert_ds_sst3/bert_ds_sst3_5e-5_3_12345/' is a correct model identifier listed on 'https://huggingface.co/models'\n  (make sure '/data/yongxin/DiaSumDA/token_classification/ACIInew/bert_ds_sst3/bert_ds_sst3_5e-5_3_12345/' is not a path to a local directory with something else, in that case)\n\n- or '/data/yongxin/DiaSumDA/token_classification/ACIInew/bert_ds_sst3/bert_ds_sst3_5e-5_3_12345/' is the correct path to a directory containing a config.json file\n\n",
     "output_type": "error",
     "traceback": [
      "\u001b[0;31m---------------------------------------------------------------------------\u001b[0m",
      "\u001b[0;31mHTTPError\u001b[0m                                 Traceback (most recent call last)",
      "File \u001b[0;32m~/miniconda3/envs/PSentScore/lib/python3.8/site-packages/transformers/configuration_utils.py:550\u001b[0m, in \u001b[0;36mPretrainedConfig.get_config_dict\u001b[0;34m(cls, pretrained_model_name_or_path, **kwargs)\u001b[0m\n\u001b[1;32m    548\u001b[0m \u001b[38;5;28;01mtry\u001b[39;00m:\n\u001b[1;32m    549\u001b[0m     \u001b[38;5;66;03m# Load from URL or cache if already cached\u001b[39;00m\n\u001b[0;32m--> 550\u001b[0m     resolved_config_file \u001b[38;5;241m=\u001b[39m \u001b[43mcached_path\u001b[49m\u001b[43m(\u001b[49m\n\u001b[1;32m    551\u001b[0m \u001b[43m        \u001b[49m\u001b[43mconfig_file\u001b[49m\u001b[43m,\u001b[49m\n\u001b[1;32m    552\u001b[0m \u001b[43m        \u001b[49m\u001b[43mcache_dir\u001b[49m\u001b[38;5;241;43m=\u001b[39;49m\u001b[43mcache_dir\u001b[49m\u001b[43m,\u001b[49m\n\u001b[1;32m    553\u001b[0m \u001b[43m        \u001b[49m\u001b[43mforce_download\u001b[49m\u001b[38;5;241;43m=\u001b[39;49m\u001b[43mforce_download\u001b[49m\u001b[43m,\u001b[49m\n\u001b[1;32m    554\u001b[0m \u001b[43m        \u001b[49m\u001b[43mproxies\u001b[49m\u001b[38;5;241;43m=\u001b[39;49m\u001b[43mproxies\u001b[49m\u001b[43m,\u001b[49m\n\u001b[1;32m    555\u001b[0m \u001b[43m        \u001b[49m\u001b[43mresume_download\u001b[49m\u001b[38;5;241;43m=\u001b[39;49m\u001b[43mresume_download\u001b[49m\u001b[43m,\u001b[49m\n\u001b[1;32m    556\u001b[0m \u001b[43m        \u001b[49m\u001b[43mlocal_files_only\u001b[49m\u001b[38;5;241;43m=\u001b[39;49m\u001b[43mlocal_files_only\u001b[49m\u001b[43m,\u001b[49m\n\u001b[1;32m    557\u001b[0m \u001b[43m        \u001b[49m\u001b[43muse_auth_token\u001b[49m\u001b[38;5;241;43m=\u001b[39;49m\u001b[43muse_auth_token\u001b[49m\u001b[43m,\u001b[49m\n\u001b[1;32m    558\u001b[0m \u001b[43m        \u001b[49m\u001b[43muser_agent\u001b[49m\u001b[38;5;241;43m=\u001b[39;49m\u001b[43muser_agent\u001b[49m\u001b[43m,\u001b[49m\n\u001b[1;32m    559\u001b[0m \u001b[43m    \u001b[49m\u001b[43m)\u001b[49m\n\u001b[1;32m    560\u001b[0m     \u001b[38;5;66;03m# Load config dict\u001b[39;00m\n",
      "File \u001b[0;32m~/miniconda3/envs/PSentScore/lib/python3.8/site-packages/transformers/file_utils.py:1491\u001b[0m, in \u001b[0;36mcached_path\u001b[0;34m(url_or_filename, cache_dir, force_download, proxies, resume_download, user_agent, extract_compressed_file, force_extract, use_auth_token, local_files_only)\u001b[0m\n\u001b[1;32m   1489\u001b[0m \u001b[38;5;28;01mif\u001b[39;00m is_remote_url(url_or_filename):\n\u001b[1;32m   1490\u001b[0m     \u001b[38;5;66;03m# URL, so get it from the cache (downloading if necessary)\u001b[39;00m\n\u001b[0;32m-> 1491\u001b[0m     output_path \u001b[38;5;241m=\u001b[39m \u001b[43mget_from_cache\u001b[49m\u001b[43m(\u001b[49m\n\u001b[1;32m   1492\u001b[0m \u001b[43m        \u001b[49m\u001b[43murl_or_filename\u001b[49m\u001b[43m,\u001b[49m\n\u001b[1;32m   1493\u001b[0m \u001b[43m        \u001b[49m\u001b[43mcache_dir\u001b[49m\u001b[38;5;241;43m=\u001b[39;49m\u001b[43mcache_dir\u001b[49m\u001b[43m,\u001b[49m\n\u001b[1;32m   1494\u001b[0m \u001b[43m        \u001b[49m\u001b[43mforce_download\u001b[49m\u001b[38;5;241;43m=\u001b[39;49m\u001b[43mforce_download\u001b[49m\u001b[43m,\u001b[49m\n\u001b[1;32m   1495\u001b[0m \u001b[43m        \u001b[49m\u001b[43mproxies\u001b[49m\u001b[38;5;241;43m=\u001b[39;49m\u001b[43mproxies\u001b[49m\u001b[43m,\u001b[49m\n\u001b[1;32m   1496\u001b[0m \u001b[43m        \u001b[49m\u001b[43mresume_download\u001b[49m\u001b[38;5;241;43m=\u001b[39;49m\u001b[43mresume_download\u001b[49m\u001b[43m,\u001b[49m\n\u001b[1;32m   1497\u001b[0m \u001b[43m        \u001b[49m\u001b[43muser_agent\u001b[49m\u001b[38;5;241;43m=\u001b[39;49m\u001b[43muser_agent\u001b[49m\u001b[43m,\u001b[49m\n\u001b[1;32m   1498\u001b[0m \u001b[43m        \u001b[49m\u001b[43muse_auth_token\u001b[49m\u001b[38;5;241;43m=\u001b[39;49m\u001b[43muse_auth_token\u001b[49m\u001b[43m,\u001b[49m\n\u001b[1;32m   1499\u001b[0m \u001b[43m        \u001b[49m\u001b[43mlocal_files_only\u001b[49m\u001b[38;5;241;43m=\u001b[39;49m\u001b[43mlocal_files_only\u001b[49m\u001b[43m,\u001b[49m\n\u001b[1;32m   1500\u001b[0m \u001b[43m    \u001b[49m\u001b[43m)\u001b[49m\n\u001b[1;32m   1501\u001b[0m \u001b[38;5;28;01melif\u001b[39;00m os\u001b[38;5;241m.\u001b[39mpath\u001b[38;5;241m.\u001b[39mexists(url_or_filename):\n\u001b[1;32m   1502\u001b[0m     \u001b[38;5;66;03m# File, and it exists.\u001b[39;00m\n",
      "File \u001b[0;32m~/miniconda3/envs/PSentScore/lib/python3.8/site-packages/transformers/file_utils.py:1663\u001b[0m, in \u001b[0;36mget_from_cache\u001b[0;34m(url, cache_dir, force_download, proxies, etag_timeout, resume_download, user_agent, use_auth_token, local_files_only)\u001b[0m\n\u001b[1;32m   1662\u001b[0m r \u001b[38;5;241m=\u001b[39m requests\u001b[38;5;241m.\u001b[39mhead(url, headers\u001b[38;5;241m=\u001b[39mheaders, allow_redirects\u001b[38;5;241m=\u001b[39m\u001b[38;5;28;01mFalse\u001b[39;00m, proxies\u001b[38;5;241m=\u001b[39mproxies, timeout\u001b[38;5;241m=\u001b[39metag_timeout)\n\u001b[0;32m-> 1663\u001b[0m \u001b[43mr\u001b[49m\u001b[38;5;241;43m.\u001b[39;49m\u001b[43mraise_for_status\u001b[49m\u001b[43m(\u001b[49m\u001b[43m)\u001b[49m\n\u001b[1;32m   1664\u001b[0m etag \u001b[38;5;241m=\u001b[39m r\u001b[38;5;241m.\u001b[39mheaders\u001b[38;5;241m.\u001b[39mget(\u001b[38;5;124m\"\u001b[39m\u001b[38;5;124mX-Linked-Etag\u001b[39m\u001b[38;5;124m\"\u001b[39m) \u001b[38;5;129;01mor\u001b[39;00m r\u001b[38;5;241m.\u001b[39mheaders\u001b[38;5;241m.\u001b[39mget(\u001b[38;5;124m\"\u001b[39m\u001b[38;5;124mETag\u001b[39m\u001b[38;5;124m\"\u001b[39m)\n",
      "File \u001b[0;32m~/miniconda3/envs/PSentScore/lib/python3.8/site-packages/requests/models.py:1021\u001b[0m, in \u001b[0;36mResponse.raise_for_status\u001b[0;34m(self)\u001b[0m\n\u001b[1;32m   1020\u001b[0m \u001b[38;5;28;01mif\u001b[39;00m http_error_msg:\n\u001b[0;32m-> 1021\u001b[0m     \u001b[38;5;28;01mraise\u001b[39;00m HTTPError(http_error_msg, response\u001b[38;5;241m=\u001b[39m\u001b[38;5;28mself\u001b[39m)\n",
      "\u001b[0;31mHTTPError\u001b[0m: 404 Client Error: Not Found for url: https://huggingface.co//data/yongxin/DiaSumDA/token_classification/ACIInew/bert_ds_sst3/bert_ds_sst3_5e-5_3_12345//resolve/main/config.json",
      "\nDuring handling of the above exception, another exception occurred:\n",
      "\u001b[0;31mOSError\u001b[0m                                   Traceback (most recent call last)",
      "Cell \u001b[0;32mIn[38], line 7\u001b[0m\n\u001b[1;32m      4\u001b[0m BERT_DS_SST3_v2 \u001b[38;5;241m=\u001b[39m \u001b[38;5;124m\"\u001b[39m\u001b[38;5;124m/data/yongxin/DiaSumDA/token_classification/ACIInew/bert_ds_sst3/bert_ds_sst3_5e-5_3_914/\u001b[39m\u001b[38;5;124m\"\u001b[39m \u001b[38;5;66;03m# seems no big in models of different runs, this one tokenization seems better\u001b[39;00m\n\u001b[1;32m      5\u001b[0m BERT_DS_SST3_v3 \u001b[38;5;241m=\u001b[39m \u001b[38;5;124m\"\u001b[39m\u001b[38;5;124m/data/yongxin/DiaSumDA/token_classification/ACIInew/bert_ds_sst3/bert_ds_sst3_5e-5_3_12345/\u001b[39m\u001b[38;5;124m\"\u001b[39m \u001b[38;5;66;03m# 12345: 0.97997\u001b[39;00m\n\u001b[0;32m----> 7\u001b[0m psent_scorer \u001b[38;5;241m=\u001b[39m \u001b[43mPSentScorer\u001b[49m\u001b[43m(\u001b[49m\u001b[43m[\u001b[49m\u001b[38;5;124;43m\"\u001b[39;49m\u001b[38;5;124;43mPSent\u001b[39;49m\u001b[38;5;124;43m\"\u001b[39;49m\u001b[43m,\u001b[49m\u001b[43m \u001b[49m\u001b[38;5;124;43m\"\u001b[39;49m\u001b[38;5;124;43mPSentP\u001b[39;49m\u001b[38;5;124;43m\"\u001b[39;49m\u001b[43m,\u001b[49m\u001b[43m \u001b[49m\u001b[38;5;124;43m\"\u001b[39;49m\u001b[38;5;124;43mPSentN\u001b[39;49m\u001b[38;5;124;43m\"\u001b[39;49m\u001b[43m]\u001b[49m\u001b[43m,\u001b[49m\u001b[43m \u001b[49m\u001b[43mcheckpoint\u001b[49m\u001b[38;5;241;43m=\u001b[39;49m\u001b[43mBERT_DS_SST3_v3\u001b[49m\u001b[43m)\u001b[49m\n",
      "File \u001b[0;32m~/PSentScore/psent_score.py:21\u001b[0m, in \u001b[0;36mPSentScorer.__init__\u001b[0;34m(self, psent_types, checkpoint)\u001b[0m\n\u001b[1;32m     19\u001b[0m \u001b[38;5;28mself\u001b[39m\u001b[38;5;241m.\u001b[39mpsent_types \u001b[38;5;241m=\u001b[39m psent_types\n\u001b[1;32m     20\u001b[0m \u001b[38;5;66;03m# self.device = device\u001b[39;00m\n\u001b[0;32m---> 21\u001b[0m \u001b[38;5;28mself\u001b[39m\u001b[38;5;241m.\u001b[39mtokenizer \u001b[38;5;241m=\u001b[39m \u001b[43mAutoTokenizer\u001b[49m\u001b[38;5;241;43m.\u001b[39;49m\u001b[43mfrom_pretrained\u001b[49m\u001b[43m(\u001b[49m\u001b[43mcheckpoint\u001b[49m\u001b[43m)\u001b[49m\n\u001b[1;32m     22\u001b[0m \u001b[38;5;28mself\u001b[39m\u001b[38;5;241m.\u001b[39mmodel \u001b[38;5;241m=\u001b[39m AutoModelForTokenClassification\u001b[38;5;241m.\u001b[39mfrom_pretrained(checkpoint)\n",
      "File \u001b[0;32m~/miniconda3/envs/PSentScore/lib/python3.8/site-packages/transformers/models/auto/tokenization_auto.py:470\u001b[0m, in \u001b[0;36mAutoTokenizer.from_pretrained\u001b[0;34m(cls, pretrained_model_name_or_path, *inputs, **kwargs)\u001b[0m\n\u001b[1;32m    468\u001b[0m \u001b[38;5;28;01mif\u001b[39;00m config_tokenizer_class \u001b[38;5;129;01mis\u001b[39;00m \u001b[38;5;28;01mNone\u001b[39;00m:\n\u001b[1;32m    469\u001b[0m     \u001b[38;5;28;01mif\u001b[39;00m \u001b[38;5;129;01mnot\u001b[39;00m \u001b[38;5;28misinstance\u001b[39m(config, PretrainedConfig):\n\u001b[0;32m--> 470\u001b[0m         config \u001b[38;5;241m=\u001b[39m \u001b[43mAutoConfig\u001b[49m\u001b[38;5;241;43m.\u001b[39;49m\u001b[43mfrom_pretrained\u001b[49m\u001b[43m(\u001b[49m\u001b[43mpretrained_model_name_or_path\u001b[49m\u001b[43m,\u001b[49m\u001b[43m \u001b[49m\u001b[38;5;241;43m*\u001b[39;49m\u001b[38;5;241;43m*\u001b[39;49m\u001b[43mkwargs\u001b[49m\u001b[43m)\u001b[49m\n\u001b[1;32m    471\u001b[0m     config_tokenizer_class \u001b[38;5;241m=\u001b[39m config\u001b[38;5;241m.\u001b[39mtokenizer_class\n\u001b[1;32m    473\u001b[0m \u001b[38;5;66;03m# If we have the tokenizer class from the tokenizer config or the model config we're good!\u001b[39;00m\n",
      "File \u001b[0;32m~/miniconda3/envs/PSentScore/lib/python3.8/site-packages/transformers/models/auto/configuration_auto.py:558\u001b[0m, in \u001b[0;36mAutoConfig.from_pretrained\u001b[0;34m(cls, pretrained_model_name_or_path, **kwargs)\u001b[0m\n\u001b[1;32m    483\u001b[0m \u001b[38;5;250m\u001b[39m\u001b[38;5;124mr\u001b[39m\u001b[38;5;124;03m\"\"\"\u001b[39;00m\n\u001b[1;32m    484\u001b[0m \u001b[38;5;124;03mInstantiate one of the configuration classes of the library from a pretrained model configuration.\u001b[39;00m\n\u001b[1;32m    485\u001b[0m \n\u001b[0;32m   (...)\u001b[0m\n\u001b[1;32m    555\u001b[0m \u001b[38;5;124;03m    {'foo': False}\u001b[39;00m\n\u001b[1;32m    556\u001b[0m \u001b[38;5;124;03m\"\"\"\u001b[39;00m\n\u001b[1;32m    557\u001b[0m kwargs[\u001b[38;5;124m\"\u001b[39m\u001b[38;5;124m_from_auto\u001b[39m\u001b[38;5;124m\"\u001b[39m] \u001b[38;5;241m=\u001b[39m \u001b[38;5;28;01mTrue\u001b[39;00m\n\u001b[0;32m--> 558\u001b[0m config_dict, _ \u001b[38;5;241m=\u001b[39m \u001b[43mPretrainedConfig\u001b[49m\u001b[38;5;241;43m.\u001b[39;49m\u001b[43mget_config_dict\u001b[49m\u001b[43m(\u001b[49m\u001b[43mpretrained_model_name_or_path\u001b[49m\u001b[43m,\u001b[49m\u001b[43m \u001b[49m\u001b[38;5;241;43m*\u001b[39;49m\u001b[38;5;241;43m*\u001b[39;49m\u001b[43mkwargs\u001b[49m\u001b[43m)\u001b[49m\n\u001b[1;32m    559\u001b[0m \u001b[38;5;28;01mif\u001b[39;00m \u001b[38;5;124m\"\u001b[39m\u001b[38;5;124mmodel_type\u001b[39m\u001b[38;5;124m\"\u001b[39m \u001b[38;5;129;01min\u001b[39;00m config_dict:\n\u001b[1;32m    560\u001b[0m     config_class \u001b[38;5;241m=\u001b[39m CONFIG_MAPPING[config_dict[\u001b[38;5;124m\"\u001b[39m\u001b[38;5;124mmodel_type\u001b[39m\u001b[38;5;124m\"\u001b[39m]]\n",
      "File \u001b[0;32m~/miniconda3/envs/PSentScore/lib/python3.8/site-packages/transformers/configuration_utils.py:575\u001b[0m, in \u001b[0;36mPretrainedConfig.get_config_dict\u001b[0;34m(cls, pretrained_model_name_or_path, **kwargs)\u001b[0m\n\u001b[1;32m    572\u001b[0m     \u001b[38;5;28;01mif\u001b[39;00m revision \u001b[38;5;129;01mis\u001b[39;00m \u001b[38;5;129;01mnot\u001b[39;00m \u001b[38;5;28;01mNone\u001b[39;00m:\n\u001b[1;32m    573\u001b[0m         msg \u001b[38;5;241m+\u001b[39m\u001b[38;5;241m=\u001b[39m \u001b[38;5;124mf\u001b[39m\u001b[38;5;124m\"\u001b[39m\u001b[38;5;124m- or \u001b[39m\u001b[38;5;124m'\u001b[39m\u001b[38;5;132;01m{\u001b[39;00mrevision\u001b[38;5;132;01m}\u001b[39;00m\u001b[38;5;124m'\u001b[39m\u001b[38;5;124m is a valid git identifier (branch name, a tag name, or a commit id) that exists for this model name as listed on its model page on \u001b[39m\u001b[38;5;124m'\u001b[39m\u001b[38;5;124mhttps://huggingface.co/models\u001b[39m\u001b[38;5;124m'\u001b[39m\u001b[38;5;130;01m\\n\u001b[39;00m\u001b[38;5;130;01m\\n\u001b[39;00m\u001b[38;5;124m\"\u001b[39m\n\u001b[0;32m--> 575\u001b[0m     \u001b[38;5;28;01mraise\u001b[39;00m \u001b[38;5;167;01mEnvironmentError\u001b[39;00m(msg)\n\u001b[1;32m    577\u001b[0m \u001b[38;5;28;01mexcept\u001b[39;00m (json\u001b[38;5;241m.\u001b[39mJSONDecodeError, \u001b[38;5;167;01mUnicodeDecodeError\u001b[39;00m):\n\u001b[1;32m    578\u001b[0m     msg \u001b[38;5;241m=\u001b[39m (\n\u001b[1;32m    579\u001b[0m         \u001b[38;5;124mf\u001b[39m\u001b[38;5;124m\"\u001b[39m\u001b[38;5;124mCouldn\u001b[39m\u001b[38;5;124m'\u001b[39m\u001b[38;5;124mt reach server at \u001b[39m\u001b[38;5;124m'\u001b[39m\u001b[38;5;132;01m{\u001b[39;00mconfig_file\u001b[38;5;132;01m}\u001b[39;00m\u001b[38;5;124m'\u001b[39m\u001b[38;5;124m to download configuration file or \u001b[39m\u001b[38;5;124m\"\u001b[39m\n\u001b[1;32m    580\u001b[0m         \u001b[38;5;124m\"\u001b[39m\u001b[38;5;124mconfiguration file is not a valid JSON file. \u001b[39m\u001b[38;5;124m\"\u001b[39m\n\u001b[1;32m    581\u001b[0m         \u001b[38;5;124mf\u001b[39m\u001b[38;5;124m\"\u001b[39m\u001b[38;5;124mPlease check network or file content here: \u001b[39m\u001b[38;5;132;01m{\u001b[39;00mresolved_config_file\u001b[38;5;132;01m}\u001b[39;00m\u001b[38;5;124m.\u001b[39m\u001b[38;5;124m\"\u001b[39m\n\u001b[1;32m    582\u001b[0m     )\n",
      "\u001b[0;31mOSError\u001b[0m: Can't load config for '/data/yongxin/DiaSumDA/token_classification/ACIInew/bert_ds_sst3/bert_ds_sst3_5e-5_3_12345/'. Make sure that:\n\n- '/data/yongxin/DiaSumDA/token_classification/ACIInew/bert_ds_sst3/bert_ds_sst3_5e-5_3_12345/' is a correct model identifier listed on 'https://huggingface.co/models'\n  (make sure '/data/yongxin/DiaSumDA/token_classification/ACIInew/bert_ds_sst3/bert_ds_sst3_5e-5_3_12345/' is not a path to a local directory with something else, in that case)\n\n- or '/data/yongxin/DiaSumDA/token_classification/ACIInew/bert_ds_sst3/bert_ds_sst3_5e-5_3_12345/' is the correct path to a directory containing a config.json file\n\n"
     ]
    }
   ],
   "source": [
    "# psent_scorer = PSentScorer([\"PSent\", \"PSentP\", \"PSentN\"], checkpoint='/home/getalp/zhouy/Models/bert_ds_sst3_5e-5_5_42')\n",
    "\n",
    "BERT_DS_SST3_v1 = \"/data/yongxin/DiaSumDA/token_classification/ACIInew/bert_ds_sst3/bert_ds_sst3_5e-5_5_42/\" # what used in lexicon_sst.py\n",
    "BERT_DS_SST3_v2 = \"/data/yongxin/DiaSumDA/token_classification/ACIInew/bert_ds_sst3/bert_ds_sst3_5e-5_3_914/\" # seems no big in models of different runs, this one tokenization seems better\n",
    "BERT_DS_SST3_v3 = \"/data/yongxin/DiaSumDA/token_classification/ACIInew/bert_ds_sst3/bert_ds_sst3_5e-5_3_12345\" # 12345: 0.97997\n",
    "\n",
    "psent_scorer = PSentScorer([\"PSent\", \"PSentP\", \"PSentN\"], checkpoint=BERT_DS_SST3_v3)"
   ]
  },
  {
   "cell_type": "code",
   "execution_count": 8,
   "id": "cbf0574c-7de7-47a2-bb2e-6e8c99f14c56",
   "metadata": {},
   "outputs": [
    {
     "name": "stderr",
     "output_type": "stream",
     "text": [
      "/home/getalp/zhouy/miniconda3/envs/PSentScore/lib/python3.8/site-packages/numpy/lib/function_base.py:2854: RuntimeWarning: invalid value encountered in divide\n",
      "  c /= stddev[:, None]\n",
      "/home/getalp/zhouy/miniconda3/envs/PSentScore/lib/python3.8/site-packages/numpy/lib/function_base.py:2855: RuntimeWarning: invalid value encountered in divide\n",
      "  c /= stddev[None, :]\n"
     ]
    },
    {
     "data": {
      "text/plain": [
       "{'PSent': {'r': 1.0,\n",
       "  'ccc': 0.17602839621795402,\n",
       "  'error': 0.029740204118137593},\n",
       " 'PSentP': {'r': -0.5,\n",
       "  'ccc': -0.058764523200519794,\n",
       "  'error': 0.0166242155358542},\n",
       " 'PSentN': {'r': nan, 'ccc': nan, 'error': 0.018701902364918487}}"
      ]
     },
     "execution_count": 8,
     "metadata": {},
     "output_type": "execute_result"
    }
   ],
   "source": [
    "psent_scorer.score(srcs, tgts) "
   ]
  },
  {
   "cell_type": "code",
   "execution_count": 9,
   "id": "a2e93c15-4bf6-4c9b-8001-98b37cced8c7",
   "metadata": {},
   "outputs": [],
   "source": [
    "def read_jsonlines_file(file_name):\n",
    "    import jsonlines\n",
    "    dialogue_list = []\n",
    "    summary1_list = []\n",
    "    summary2_list = []\n",
    "    summary3_list = []\n",
    "    ids = []\n",
    "\n",
    "    with jsonlines.open(file_name) as reader:\n",
    "        for obj in reader:\n",
    "            dialogue = obj[\"dialogue\"]\n",
    "            dialogue_list.append(dialogue)\n",
    "            summary1 = obj[\"summary1\"] \n",
    "            summary1_list.append(summary1)\n",
    "            summary2 = obj[\"summary2\"]\n",
    "            summary2_list.append(summary2)\n",
    "            summary3 = obj[\"summary3\"] \n",
    "            summary3_list.append(summary3)\n",
    "            id = obj[\"fname\"]\n",
    "            ids.append(id)\n",
    "    return dialogue_list, summary1_list, summary2_list, summary3_list, ids"
   ]
  },
  {
   "cell_type": "code",
   "execution_count": 10,
   "id": "8c42607e-92aa-483e-b6c2-a7c68ef9220c",
   "metadata": {},
   "outputs": [],
   "source": [
    "import jsonlines\n",
    "test_file = \"./DialSumm_output/dialogsum.test.jsonl\" # 500 orws"
   ]
  },
  {
   "cell_type": "code",
   "execution_count": 11,
   "id": "79a2fb67-2fe9-4c58-8a37-e1115e1f2ec7",
   "metadata": {},
   "outputs": [],
   "source": [
    "dialogue_list, summary1_list, summary2_list, summary3_list, ids = read_jsonlines_file(test_file)"
   ]
  },
  {
   "cell_type": "code",
   "execution_count": 12,
   "id": "8e6c0ed9-3675-4f2f-bece-1716f35fc1c7",
   "metadata": {},
   "outputs": [],
   "source": [
    "# dialogue_list = dialogsum[\"test\"][\"dialogue\"][::3]\n",
    "# print(len(dialogue_list))\n",
    "# print(dialogue_list[:2])"
   ]
  },
  {
   "cell_type": "code",
   "execution_count": 13,
   "id": "5d9e39f0-a1e1-4a0b-b1b2-cd2f472f9f6a",
   "metadata": {},
   "outputs": [],
   "source": [
    "def read_text_file(file_name):\n",
    "    with open(file_name) as f:\n",
    "        prediction = f.readlines()\n",
    "    return prediction"
   ]
  },
  {
   "cell_type": "code",
   "execution_count": 14,
   "id": "6b92e740-1d01-4b57-bb40-889070c37349",
   "metadata": {},
   "outputs": [],
   "source": [
    "Baseline_file = \"./DialSumm_output/baseline.txt\"\n",
    "Baseline_filtered_file = \"./DialSumm_output/baseline_filtered.txt\"\n",
    "\n",
    "baseline_list = read_text_file(Baseline_file)[:500]\n",
    "baseline_filtered_list = read_text_file(Baseline_filtered_file)[:500]"
   ]
  },
  {
   "cell_type": "code",
   "execution_count": 15,
   "id": "302f8965-65a9-49b1-bc0e-c359ac08198d",
   "metadata": {},
   "outputs": [
    {
     "data": {
      "text/plain": [
       "[\"#Person1#: Ms. Dawson, I need you to take a dictation for me.\\n#Person2#: Yes, sir...\\n#Person1#: This should go out as an intra-office memorandum to all employees by this afternoon. Are you ready?\\n#Person2#: Yes, sir. Go ahead.\\n#Person1#: Attention all staff... Effective immediately, all office communications are restricted to email correspondence and official memos. The use of Instant Message programs by employees during working hours is strictly prohibited.\\n#Person2#: Sir, does this apply to intra-office communications only? Or will it also restrict external communications?\\n#Person1#: It should apply to all communications, not only in this office between employees, but also any outside communications.\\n#Person2#: But sir, many employees use Instant Messaging to communicate with their clients.\\n#Person1#: They will just have to change their communication methods. I don't want any - one using Instant Messaging in this office. It wastes too much time! Now, please continue with the memo. Where were we?\\n#Person2#: This applies to internal and external communications.\\n#Person1#: Yes. Any employee who persists in using Instant Messaging will first receive a warning and be placed on probation. At second offense, the employee will face termination. Any questions regarding this new policy may be directed to department heads.\\n#Person2#: Is that all?\\n#Person1#: Yes. Please get this memo typed up and distributed to all employees before 4 pm.\",\n",
       " \"#Person1#: You're finally here! What took so long?\\n#Person2#: I got stuck in traffic again. There was a terrible traffic jam near the Carrefour intersection.\\n#Person1#: It's always rather congested down there during rush hour. Maybe you should try to find a different route to get home.\\n#Person2#: I don't think it can be avoided, to be honest.\\n#Person1#: perhaps it would be better if you started taking public transport system to work.\\n#Person2#: I think it's something that I'll have to consider. The public transport system is pretty good.\\n#Person1#: It would be better for the environment, too.\\n#Person2#: I know. I feel bad about how much my car is adding to the pollution problem in this city.\\n#Person1#: Taking the subway would be a lot less stressful than driving as well.\\n#Person2#: The only problem is that I'm going to really miss having the freedom that you have with a car.\\n#Person1#: Well, when it's nicer outside, you can start biking to work. That will give you just as much freedom as your car usually provides.\\n#Person2#: That's true. I could certainly use the exercise!\\n#Person1#: So, are you going to quit driving to work then?\\n#Person2#: Yes, it's not good for me or for the environment.\"]"
      ]
     },
     "execution_count": 15,
     "metadata": {},
     "output_type": "execute_result"
    }
   ],
   "source": [
    "dialogue_list[:2]"
   ]
  },
  {
   "cell_type": "code",
   "execution_count": 16,
   "id": "4002418f-cba0-4687-9ee8-e5f4e740a844",
   "metadata": {},
   "outputs": [
    {
     "data": {
      "text/plain": [
       "['#Person1# asks Ms. Dawson to take a dictation for him and tells her that Instant Message programs are strictly prohibited. The policy applies to internal and external communications and any employee who persists in using Instant Messaging will first receive a warning and be placed on probation and then face termination.\\n',\n",
       " \"#Person2# got stuck in traffic again. #Person1# suggests #Person2 # start taking public transport system to work because it's better for the environment and #Person 2#'ll miss having the freedom with a car.\\n\"]"
      ]
     },
     "execution_count": 16,
     "metadata": {},
     "output_type": "execute_result"
    }
   ],
   "source": [
    "baseline_list[:2]"
   ]
  },
  {
   "cell_type": "code",
   "execution_count": 17,
   "id": "03a249a1-7831-448f-a41f-15bf3a48894d",
   "metadata": {},
   "outputs": [],
   "source": [
    "PSent_baseline = psent_scorer.score(dialogue_list, baseline_list) "
   ]
  },
  {
   "cell_type": "code",
   "execution_count": 18,
   "id": "2d541de3-7ab0-4a95-a988-ff2827e21c1d",
   "metadata": {},
   "outputs": [],
   "source": [
    "PSent_baseline_filtered = psent_scorer.score(dialogue_list, baseline_filtered_list) "
   ]
  },
  {
   "cell_type": "code",
   "execution_count": 19,
   "id": "6e4a1f64-22b1-4f76-b395-c8d7ced46674",
   "metadata": {},
   "outputs": [
    {
     "name": "stdout",
     "output_type": "stream",
     "text": [
      "{'PSent': {'r': 0.392252163507839, 'ccc': 0.3332693526932844, 'error': 0.02783544588156605}, 'PSentP': {'r': 0.3565232862643794, 'ccc': 0.33816470283593536, 'error': 0.024684006576982543}, 'PSentN': {'r': 0.424709583986352, 'ccc': 0.3408131043523878, 'error': 0.01594073792378572}}\n"
     ]
    }
   ],
   "source": [
    "print(PSent_baseline)"
   ]
  },
  {
   "cell_type": "code",
   "execution_count": 20,
   "id": "8069a34a-2c65-4895-95e9-53f178903347",
   "metadata": {},
   "outputs": [
    {
     "name": "stdout",
     "output_type": "stream",
     "text": [
      "{'PSent': {'r': 0.4565470695539414, 'ccc': 0.37487381463717434, 'error': 0.026918887988244527}, 'PSentP': {'r': 0.39043753492088157, 'ccc': 0.38251239414622795, 'error': 0.023132194333878562}, 'PSentN': {'r': 0.49510884209841793, 'ccc': 0.3952607400765182, 'error': 0.015218466996675952}}\n"
     ]
    }
   ],
   "source": [
    "print(PSent_baseline_filtered)"
   ]
  },
  {
   "cell_type": "code",
   "execution_count": 23,
   "id": "831333a0-547d-486c-ab6a-4b586b3909d1",
   "metadata": {},
   "outputs": [],
   "source": [
    "from utils import*\n",
    "\n",
    "def read_csv_to_df(file):\n",
    "    import pandas as pd\n",
    "    df = pd.read_csv(file, encoding='utf-8')\n",
    "    return df\n",
    "    \n",
    "df_ours=read_csv_to_df(\"./DialSumm_output/Stats_OursPredictions_PEmo.csv\")"
   ]
  },
  {
   "cell_type": "code",
   "execution_count": 31,
   "id": "21159032-ae66-48c1-899f-8daa0e9d6ed2",
   "metadata": {},
   "outputs": [],
   "source": [
    "def compute_correlation_psent(PSent_srcs, PSent_tgts):\n",
    "    import pandas as pd\n",
    "    df = pd.DataFrame(\n",
    "        {'PSent_srcs': PSent_srcs,\n",
    "         'PSent_tgts': PSent_tgts\n",
    "         })\n",
    "    df_selected = df.loc[(df['PSent_srcs'] != 0)]\n",
    "    # print(df_non_zero)\n",
    "    # df_selected = df_non_zero[['PSent_srcs', 'PSent_tgts']]\n",
    "    # print(df_selected)\n",
    "    r = df_selected.corr(method=\"spearman\")\n",
    "    r_value = r.iloc[0]['PSent_tgts'] # access the first row\n",
    "    #                        PSent_srcs  PSent_tgts\n",
    "    # PSent_srcs       1.000000       0.352869\n",
    "    # PSent_tgts      0.352869       1.000000\n",
    "    # ccc = concordance_correlation_coefficient(y_true, y_pred)\n",
    "    ccc = concordance_correlation_coefficient(df_selected['PSent_srcs'], df_selected['PSent_tgts'])\n",
    "    # calculate MAE\n",
    "    # error = mae(actual, calculated)\n",
    "    error = mae(df_selected['PSent_srcs'], df_selected['PSent_tgts'])\n",
    "    return {\n",
    "            \"r\": r_value,\n",
    "            \"ccc\": ccc,\n",
    "            \"error\": error\n",
    "        }"
   ]
  },
  {
   "cell_type": "code",
   "execution_count": 32,
   "id": "8eac453d-5fde-44e7-b09c-b2d98ed39eb9",
   "metadata": {},
   "outputs": [],
   "source": [
    "df_our_new = df_ours[['ids', 'PEmoDialogue', 'PEmoPDialogue', 'PEmoNDialogue', 'PEmo_Baseline', 'PEmoP_Baseline', 'PEmoN_Baseline', 'PEmo_BERT_SST_Random', 'PEmoP_BERT_SST_Random', 'PEmoN_BERT_SST_Random', 'PEmo_BERT_DS_SST_Filtration', 'PEmoP_BERT_DS_SST_Filtration', 'PEmoN_BERT_DS_SST_Filtration']]\n"
   ]
  },
  {
   "cell_type": "code",
   "execution_count": 33,
   "id": "b39c5a31-3413-40b2-8126-d2e1021d2a3b",
   "metadata": {},
   "outputs": [
    {
     "data": {
      "text/html": [
       "<div>\n",
       "<style scoped>\n",
       "    .dataframe tbody tr th:only-of-type {\n",
       "        vertical-align: middle;\n",
       "    }\n",
       "\n",
       "    .dataframe tbody tr th {\n",
       "        vertical-align: top;\n",
       "    }\n",
       "\n",
       "    .dataframe thead th {\n",
       "        text-align: right;\n",
       "    }\n",
       "</style>\n",
       "<table border=\"1\" class=\"dataframe\">\n",
       "  <thead>\n",
       "    <tr style=\"text-align: right;\">\n",
       "      <th></th>\n",
       "      <th>ids</th>\n",
       "      <th>PEmoDialogue</th>\n",
       "      <th>PEmoPDialogue</th>\n",
       "      <th>PEmoNDialogue</th>\n",
       "      <th>PEmo_Baseline</th>\n",
       "      <th>PEmoP_Baseline</th>\n",
       "      <th>PEmoN_Baseline</th>\n",
       "      <th>PEmo_BERT_SST_Random</th>\n",
       "      <th>PEmoP_BERT_SST_Random</th>\n",
       "      <th>PEmoN_BERT_SST_Random</th>\n",
       "      <th>PEmo_BERT_DS_SST_Filtration</th>\n",
       "      <th>PEmoP_BERT_DS_SST_Filtration</th>\n",
       "      <th>PEmoN_BERT_DS_SST_Filtration</th>\n",
       "    </tr>\n",
       "  </thead>\n",
       "  <tbody>\n",
       "    <tr>\n",
       "      <th>0</th>\n",
       "      <td>test_0</td>\n",
       "      <td>0.034667</td>\n",
       "      <td>0.021333</td>\n",
       "      <td>0.013333</td>\n",
       "      <td>0.015625</td>\n",
       "      <td>0.015625</td>\n",
       "      <td>0.000000</td>\n",
       "      <td>0.027397</td>\n",
       "      <td>0.027397</td>\n",
       "      <td>0.0</td>\n",
       "      <td>0.024691</td>\n",
       "      <td>0.024691</td>\n",
       "      <td>0.000000</td>\n",
       "    </tr>\n",
       "    <tr>\n",
       "      <th>1</th>\n",
       "      <td>test_1</td>\n",
       "      <td>0.081232</td>\n",
       "      <td>0.053221</td>\n",
       "      <td>0.028011</td>\n",
       "      <td>0.056604</td>\n",
       "      <td>0.037736</td>\n",
       "      <td>0.018868</td>\n",
       "      <td>0.059701</td>\n",
       "      <td>0.059701</td>\n",
       "      <td>0.0</td>\n",
       "      <td>0.114754</td>\n",
       "      <td>0.032787</td>\n",
       "      <td>0.081967</td>\n",
       "    </tr>\n",
       "    <tr>\n",
       "      <th>2</th>\n",
       "      <td>test_2</td>\n",
       "      <td>0.046414</td>\n",
       "      <td>0.033755</td>\n",
       "      <td>0.012658</td>\n",
       "      <td>0.100000</td>\n",
       "      <td>0.100000</td>\n",
       "      <td>0.000000</td>\n",
       "      <td>0.100000</td>\n",
       "      <td>0.100000</td>\n",
       "      <td>0.0</td>\n",
       "      <td>0.100000</td>\n",
       "      <td>0.100000</td>\n",
       "      <td>0.000000</td>\n",
       "    </tr>\n",
       "    <tr>\n",
       "      <th>3</th>\n",
       "      <td>test_3</td>\n",
       "      <td>0.092233</td>\n",
       "      <td>0.092233</td>\n",
       "      <td>0.000000</td>\n",
       "      <td>0.063830</td>\n",
       "      <td>0.063830</td>\n",
       "      <td>0.000000</td>\n",
       "      <td>0.040816</td>\n",
       "      <td>0.040816</td>\n",
       "      <td>0.0</td>\n",
       "      <td>0.060606</td>\n",
       "      <td>0.060606</td>\n",
       "      <td>0.000000</td>\n",
       "    </tr>\n",
       "    <tr>\n",
       "      <th>4</th>\n",
       "      <td>test_4</td>\n",
       "      <td>0.020000</td>\n",
       "      <td>0.015000</td>\n",
       "      <td>0.005000</td>\n",
       "      <td>0.000000</td>\n",
       "      <td>0.000000</td>\n",
       "      <td>0.000000</td>\n",
       "      <td>0.000000</td>\n",
       "      <td>0.000000</td>\n",
       "      <td>0.0</td>\n",
       "      <td>0.000000</td>\n",
       "      <td>0.000000</td>\n",
       "      <td>0.000000</td>\n",
       "    </tr>\n",
       "    <tr>\n",
       "      <th>...</th>\n",
       "      <td>...</td>\n",
       "      <td>...</td>\n",
       "      <td>...</td>\n",
       "      <td>...</td>\n",
       "      <td>...</td>\n",
       "      <td>...</td>\n",
       "      <td>...</td>\n",
       "      <td>...</td>\n",
       "      <td>...</td>\n",
       "      <td>...</td>\n",
       "      <td>...</td>\n",
       "      <td>...</td>\n",
       "      <td>...</td>\n",
       "    </tr>\n",
       "    <tr>\n",
       "      <th>495</th>\n",
       "      <td>test_495</td>\n",
       "      <td>0.027174</td>\n",
       "      <td>0.027174</td>\n",
       "      <td>0.000000</td>\n",
       "      <td>0.076923</td>\n",
       "      <td>0.076923</td>\n",
       "      <td>0.000000</td>\n",
       "      <td>0.040000</td>\n",
       "      <td>0.040000</td>\n",
       "      <td>0.0</td>\n",
       "      <td>0.076923</td>\n",
       "      <td>0.076923</td>\n",
       "      <td>0.000000</td>\n",
       "    </tr>\n",
       "    <tr>\n",
       "      <th>496</th>\n",
       "      <td>test_496</td>\n",
       "      <td>0.043478</td>\n",
       "      <td>0.038043</td>\n",
       "      <td>0.005435</td>\n",
       "      <td>0.035714</td>\n",
       "      <td>0.035714</td>\n",
       "      <td>0.000000</td>\n",
       "      <td>0.034483</td>\n",
       "      <td>0.034483</td>\n",
       "      <td>0.0</td>\n",
       "      <td>0.017857</td>\n",
       "      <td>0.017857</td>\n",
       "      <td>0.000000</td>\n",
       "    </tr>\n",
       "    <tr>\n",
       "      <th>497</th>\n",
       "      <td>test_497</td>\n",
       "      <td>0.035565</td>\n",
       "      <td>0.023013</td>\n",
       "      <td>0.012552</td>\n",
       "      <td>0.049180</td>\n",
       "      <td>0.049180</td>\n",
       "      <td>0.000000</td>\n",
       "      <td>0.031915</td>\n",
       "      <td>0.031915</td>\n",
       "      <td>0.0</td>\n",
       "      <td>0.021505</td>\n",
       "      <td>0.010753</td>\n",
       "      <td>0.010753</td>\n",
       "    </tr>\n",
       "    <tr>\n",
       "      <th>498</th>\n",
       "      <td>test_498</td>\n",
       "      <td>0.053125</td>\n",
       "      <td>0.046875</td>\n",
       "      <td>0.006250</td>\n",
       "      <td>0.038462</td>\n",
       "      <td>0.019231</td>\n",
       "      <td>0.019231</td>\n",
       "      <td>0.000000</td>\n",
       "      <td>0.000000</td>\n",
       "      <td>0.0</td>\n",
       "      <td>0.014493</td>\n",
       "      <td>0.000000</td>\n",
       "      <td>0.014493</td>\n",
       "    </tr>\n",
       "    <tr>\n",
       "      <th>499</th>\n",
       "      <td>test_499</td>\n",
       "      <td>0.060284</td>\n",
       "      <td>0.049645</td>\n",
       "      <td>0.010638</td>\n",
       "      <td>0.062500</td>\n",
       "      <td>0.031250</td>\n",
       "      <td>0.031250</td>\n",
       "      <td>0.071429</td>\n",
       "      <td>0.071429</td>\n",
       "      <td>0.0</td>\n",
       "      <td>0.038462</td>\n",
       "      <td>0.038462</td>\n",
       "      <td>0.000000</td>\n",
       "    </tr>\n",
       "  </tbody>\n",
       "</table>\n",
       "<p>500 rows × 13 columns</p>\n",
       "</div>"
      ],
      "text/plain": [
       "          ids  PEmoDialogue  PEmoPDialogue  PEmoNDialogue  PEmo_Baseline  \\\n",
       "0      test_0      0.034667       0.021333       0.013333       0.015625   \n",
       "1      test_1      0.081232       0.053221       0.028011       0.056604   \n",
       "2      test_2      0.046414       0.033755       0.012658       0.100000   \n",
       "3      test_3      0.092233       0.092233       0.000000       0.063830   \n",
       "4      test_4      0.020000       0.015000       0.005000       0.000000   \n",
       "..        ...           ...            ...            ...            ...   \n",
       "495  test_495      0.027174       0.027174       0.000000       0.076923   \n",
       "496  test_496      0.043478       0.038043       0.005435       0.035714   \n",
       "497  test_497      0.035565       0.023013       0.012552       0.049180   \n",
       "498  test_498      0.053125       0.046875       0.006250       0.038462   \n",
       "499  test_499      0.060284       0.049645       0.010638       0.062500   \n",
       "\n",
       "     PEmoP_Baseline  PEmoN_Baseline  PEmo_BERT_SST_Random  \\\n",
       "0          0.015625        0.000000              0.027397   \n",
       "1          0.037736        0.018868              0.059701   \n",
       "2          0.100000        0.000000              0.100000   \n",
       "3          0.063830        0.000000              0.040816   \n",
       "4          0.000000        0.000000              0.000000   \n",
       "..              ...             ...                   ...   \n",
       "495        0.076923        0.000000              0.040000   \n",
       "496        0.035714        0.000000              0.034483   \n",
       "497        0.049180        0.000000              0.031915   \n",
       "498        0.019231        0.019231              0.000000   \n",
       "499        0.031250        0.031250              0.071429   \n",
       "\n",
       "     PEmoP_BERT_SST_Random  PEmoN_BERT_SST_Random  \\\n",
       "0                 0.027397                    0.0   \n",
       "1                 0.059701                    0.0   \n",
       "2                 0.100000                    0.0   \n",
       "3                 0.040816                    0.0   \n",
       "4                 0.000000                    0.0   \n",
       "..                     ...                    ...   \n",
       "495               0.040000                    0.0   \n",
       "496               0.034483                    0.0   \n",
       "497               0.031915                    0.0   \n",
       "498               0.000000                    0.0   \n",
       "499               0.071429                    0.0   \n",
       "\n",
       "     PEmo_BERT_DS_SST_Filtration  PEmoP_BERT_DS_SST_Filtration  \\\n",
       "0                       0.024691                      0.024691   \n",
       "1                       0.114754                      0.032787   \n",
       "2                       0.100000                      0.100000   \n",
       "3                       0.060606                      0.060606   \n",
       "4                       0.000000                      0.000000   \n",
       "..                           ...                           ...   \n",
       "495                     0.076923                      0.076923   \n",
       "496                     0.017857                      0.017857   \n",
       "497                     0.021505                      0.010753   \n",
       "498                     0.014493                      0.000000   \n",
       "499                     0.038462                      0.038462   \n",
       "\n",
       "     PEmoN_BERT_DS_SST_Filtration  \n",
       "0                        0.000000  \n",
       "1                        0.081967  \n",
       "2                        0.000000  \n",
       "3                        0.000000  \n",
       "4                        0.000000  \n",
       "..                            ...  \n",
       "495                      0.000000  \n",
       "496                      0.000000  \n",
       "497                      0.010753  \n",
       "498                      0.014493  \n",
       "499                      0.000000  \n",
       "\n",
       "[500 rows x 13 columns]"
      ]
     },
     "execution_count": 33,
     "metadata": {},
     "output_type": "execute_result"
    }
   ],
   "source": [
    "df_our_new"
   ]
  },
  {
   "cell_type": "code",
   "execution_count": 37,
   "id": "e02cbe1f-44f9-4f7e-b88f-4d0fad3f0e63",
   "metadata": {},
   "outputs": [
    {
     "data": {
      "text/plain": [
       "{'r': 0.31760473314319887,\n",
       " 'ccc': 0.2950821478072379,\n",
       " 'error': 0.025215121491393228}"
      ]
     },
     "execution_count": 37,
     "metadata": {},
     "output_type": "execute_result"
    }
   ],
   "source": [
    "from sklearn.metrics import mean_absolute_error as mae\n",
    "\n",
    "compute_correlation_psent(df_our_new[\"PEmoPDialogue\"], df_our_new[\"PEmoP_Baseline\"])"
   ]
  },
  {
   "cell_type": "code",
   "execution_count": null,
   "id": "49fea700-8510-448b-815a-b492eb0b68d7",
   "metadata": {},
   "outputs": [],
   "source": []
  }
 ],
 "metadata": {
  "kernelspec": {
   "display_name": "Python 3 (ipykernel)",
   "language": "python",
   "name": "python3"
  },
  "language_info": {
   "codemirror_mode": {
    "name": "ipython",
    "version": 3
   },
   "file_extension": ".py",
   "mimetype": "text/x-python",
   "name": "python",
   "nbconvert_exporter": "python",
   "pygments_lexer": "ipython3",
   "version": "3.8.19"
  }
 },
 "nbformat": 4,
 "nbformat_minor": 5
}
